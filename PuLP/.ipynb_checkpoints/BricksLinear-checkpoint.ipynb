{
 "cells": [
  {
   "cell_type": "markdown",
   "metadata": {},
   "source": [
    "# Bricks\n",
    "*a linear optimization problem solved with PuLP*"
   ]
  },
  {
   "cell_type": "markdown",
   "metadata": {},
   "source": [
    "## Problem Description\n",
    "\n",
    "We want to place a series of colored bricks in a N x M box\n",
    "\n",
    "![Bricks](bricks.png)"
   ]
  },
  {
   "cell_type": "markdown",
   "metadata": {},
   "source": [
    "The bricks need to be placed according the following rules:\n",
    "\n",
    "* all bricks with the same colour should end up in the same column\n",
    "* if this is not possible, the rightmost column of one colour should be filled up first\n",
    "* bricks of one colour should be as close to each other on the x-axis as possible\n",
    "\n",
    "This notebook shows how to solve this problem using the **linear equation solver PuLP**."
   ]
  },
  {
   "cell_type": "markdown",
   "metadata": {},
   "source": [
    "## Preparations\n",
    "\n",
    "First, we define the bricks and their colours in Python:"
   ]
  },
  {
   "cell_type": "code",
   "execution_count": 4,
   "metadata": {
    "collapsed": false
   },
   "outputs": [],
   "source": [
    "bricks = ['a1', 'a2', 'a3', 'b1', 'b2', 'c1', 'c2', 'c3', 'c4', 'd1', 'e1']\n",
    "colours = [b[0] for b in bricks]"
   ]
  },
  {
   "cell_type": "markdown",
   "metadata": {},
   "source": [
    "We also define the size of the box to stack bricks in:"
   ]
  },
  {
   "cell_type": "code",
   "execution_count": 5,
   "metadata": {
    "collapsed": true
   },
   "outputs": [],
   "source": [
    "XSIZE = 4\n",
    "YSIZE = 3"
   ]
  },
  {
   "cell_type": "markdown",
   "metadata": {},
   "source": [
    "## Modeling a Linear Equation System\n",
    "To model our problem using **PuLP**, we need to perform four steps:\n",
    "\n",
    "1. Define the model variables\n",
    "2. Define the optimization function\n",
    "3. Add linear constraints\n",
    "4. Run the solver\n"
   ]
  },
  {
   "cell_type": "markdown",
   "metadata": {},
   "source": [
    "### Step 1: Define the model variables\n",
    "\n",
    "Our model variable will be a binary matrix with four dimensions. The first two dimensions are quite obvious: each space in the box has its own position in the matrix. The third dimension are the bricks themselves. We use them to specify, which brick occupies a certain space. \n",
    "\n",
    "The fourth dimension is probably the least obvious: It is the column in which bricks of one colour should be placed. We use it to link bricks of the same colour together."
   ]
  },
  {
   "cell_type": "code",
   "execution_count": null,
   "metadata": {
    "collapsed": true
   },
   "outputs": [],
   "source": [
    "from pulp import *\n",
    "\n",
    "v = LpVariable.dicts(\"bricks\", (range(XSIZE), range(YSIZE), bricks, range(XSIZE)), \\\n",
    "                     lowBound = 0, upBound = 1, cat = LpInteger)"
   ]
  },
  {
   "cell_type": "markdown",
   "metadata": {},
   "source": [
    "#### Why don't we simply assign each brick a number instead of an extra dimension?\n",
    "Yes, it would be nice to cut out an extra dimension from the matrix. However, we cannot discretisize numbers in a linear equation system (e.g. say *\"If x is 3 do this, if x is 4 do something else\"*). I find this quite a strong limitation, and the binary matrix is the proper way to say *\"I have discrete bricks a, b, c.. in my system\".*.\n",
    "\n",
    "#### I don't understand why range(XSIZE) appears twice.\n",
    "Each brick has two X values assigned: the first is the column in which the brick actually is, the second is the one where most of its colleagues are grouped. We need this second value to implement the second and third rule above."
   ]
  },
  {
   "cell_type": "markdown",
   "metadata": {},
   "source": [
    "### Step 2: Define the Optimization Function\n",
    "\n",
    "We want to tell PuLP to minimize the distance bricks have from their colleagues to the right. For that, we need to construct a penalty matrix first:"
   ]
  },
  {
   "cell_type": "code",
   "execution_count": null,
   "metadata": {
    "collapsed": true
   },
   "outputs": [],
   "source": [
    "penalties = {}\n",
    "for x in range(XSIZE):\n",
    "    penalties[x] = {}\n",
    "    for rb in range(XSIZE):\n",
    "        if rb == x:\n",
    "            penalty = 0\n",
    "        elif x > rb:\n",
    "            penalty = 10000000\n",
    "        else:\n",
    "            penalty = 10 * (rb - x)\n",
    "        penalties[x][rb] = penalty\n",
    "print(penalties)"
   ]
  },
  {
   "cell_type": "code",
   "execution_count": null,
   "metadata": {
    "collapsed": true
   },
   "outputs": [],
   "source": [
    "\n",
    "brick_pairs = [\n",
    "                ('a1', 'a2'), ('a1', 'a3'), ('a2', 'a3'), \n",
    "                ('b1', 'b2'),\n",
    "                ('c1', 'c2'), ('c1', 'c3'), ('c2', 'c3'),\n",
    "                ('c1', 'c4'), ('c2', 'c4'), ('c3', 'c4'),\n",
    "              ]\n"
   ]
  },
  {
   "cell_type": "code",
   "execution_count": null,
   "metadata": {
    "collapsed": true
   },
   "outputs": [],
   "source": [
    "\n",
    "m = LpProblem(\"Bricks\", LpMinimize)\n",
    "\n",
    "# minimize penalties\n",
    "m += lpSum([penalties[x][rb] * v[x][y][n][rb] for x in xx for y in yy for n in pnames for rb in right_bounds])"
   ]
  },
  {
   "cell_type": "code",
   "execution_count": null,
   "metadata": {
    "collapsed": true
   },
   "outputs": [],
   "source": [
    "# exclude impossible combinations\n",
    "for x in xx:\n",
    "    for rb in right_bounds:\n",
    "        if x > rb:\n",
    "            m += lpSum([v[x][y][n][rb] for y in yy for n in pnames]) == 0\n",
    "\n",
    "# maximum of one assignment for each x/y position\n",
    "for x in xx:\n",
    "    for y in yy:\n",
    "        m += lpSum([v[x][y][n][rb] for n in pnames for rb in right_bounds]) <= 1\n",
    "\n",
    "# each brick assigned exactly once\n",
    "for n in pnames:\n",
    "    m += lpSum([v[x][y][n][rb] for x in xx for y in yy for rb in right_bounds]) == 1\n",
    "\n",
    "# same rb for bricks of same color\n",
    "for n1, n2 in brick_pairs:\n",
    "    for rb in right_bounds:\n",
    "        m += lpSum([v[x][y][n1][rb] for x in xx for y in yy] + \\\n",
    "               [-v[x][y][n2][rb] for x in xx for y in yy]) == 0"
   ]
  },
  {
   "cell_type": "code",
   "execution_count": null,
   "metadata": {
    "collapsed": true
   },
   "outputs": [],
   "source": [
    "m.solve()\n",
    "print(\"Status:\", LpStatus[m.status])"
   ]
  },
  {
   "cell_type": "code",
   "execution_count": null,
   "metadata": {
    "collapsed": true
   },
   "outputs": [],
   "source": [
    "# output\n",
    "for y in yy:\n",
    "    row = \"\"\n",
    "    for x in xx:\n",
    "        for n in pnames:\n",
    "            for rb in right_bounds:\n",
    "                val = value(v[x][y][n][rb])\n",
    "                if val == 1:\n",
    "                    row += '{}/{};'.format(n, rb)\n",
    "        row += '*\\t'\n",
    "    print(row)"
   ]
  },
  {
   "cell_type": "code",
   "execution_count": null,
   "metadata": {
    "collapsed": true
   },
   "outputs": [],
   "source": []
  }
 ],
 "metadata": {
  "kernelspec": {
   "display_name": "Python 3",
   "language": "python",
   "name": "python3"
  },
  "language_info": {
   "codemirror_mode": {
    "name": "ipython",
    "version": 3
   },
   "file_extension": ".py",
   "mimetype": "text/x-python",
   "name": "python",
   "nbconvert_exporter": "python",
   "pygments_lexer": "ipython3",
   "version": "3.4.0"
  }
 },
 "nbformat": 4,
 "nbformat_minor": 0
}
