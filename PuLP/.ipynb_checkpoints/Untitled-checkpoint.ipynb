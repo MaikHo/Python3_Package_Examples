{
 "cells": [
  {
   "cell_type": "code",
   "execution_count": 2,
   "metadata": {
    "collapsed": false
   },
   "outputs": [
    {
     "data": {
      "text/plain": [
       "[7777,\n",
       " 7778,\n",
       " 7779,\n",
       " 7780,\n",
       " 7781,\n",
       " 7782,\n",
       " 7783,\n",
       " 7784,\n",
       " 7785,\n",
       " 7786,\n",
       " 7787,\n",
       " 7788,\n",
       " 7789,\n",
       " 7790]"
      ]
     },
     "execution_count": 2,
     "metadata": {},
     "output_type": "execute_result"
    }
   ],
   "source": [
    "djmin = 7777\n",
    "djmax = 7790\n",
    "dj = list(range(djmin, djmax+1))\n",
    "dj\n"
   ]
  },
  {
   "cell_type": "code",
   "execution_count": null,
   "metadata": {
    "collapsed": true
   },
   "outputs": [],
   "source": [
    "djmin = min( [a.eingang + baumuster[a.baumuster].pz for a in auftraege] )"
   ]
  },
  {
   "cell_type": "code",
   "execution_count": null,
   "metadata": {
    "collapsed": true
   },
   "outputs": [],
   "source": [
    "for p in periods:\n",
    "    for d in dj:\n",
    "        for o in orders:\n",
    "            if p + pz[o] > d:\n",
    "                m += lpSum([v[x][y][b][rb] for y in range(YSIZE) for b in bricks]) == 0"
   ]
  }
 ],
 "metadata": {
  "kernelspec": {
   "display_name": "Python 3",
   "language": "python",
   "name": "python3"
  },
  "language_info": {
   "codemirror_mode": {
    "name": "ipython",
    "version": 3
   },
   "file_extension": ".py",
   "mimetype": "text/x-python",
   "name": "python",
   "nbconvert_exporter": "python",
   "pygments_lexer": "ipython3",
   "version": "3.4.0"
  }
 },
 "nbformat": 4,
 "nbformat_minor": 0
}
