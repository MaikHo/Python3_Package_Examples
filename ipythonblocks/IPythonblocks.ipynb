{
 "cells": [
  {
   "cell_type": "markdown",
   "metadata": {},
   "source": [
    "## Creating and indexing block grids"
   ]
  },
  {
   "cell_type": "code",
   "execution_count": null,
   "metadata": {},
   "outputs": [],
   "source": [
    "from ipythonblocks import BlockGrid"
   ]
  },
  {
   "cell_type": "code",
   "execution_count": null,
   "metadata": {},
   "outputs": [],
   "source": [
    "b = BlockGrid(5, 5, fill=(255, 0, 0))\n",
    "b[2,2].blue = 255\n",
    "b[2,2].green = 255\n",
    "b"
   ]
  },
  {
   "cell_type": "code",
   "execution_count": null,
   "metadata": {},
   "outputs": [],
   "source": [
    "b = BlockGrid(11, 7, fill=(255, 120, 0))\n",
    "b[:, 1::2] = (128, 0, 128)\n",
    "b[2:5,3:-3] = (120,120,120)\n",
    "b"
   ]
  },
  {
   "cell_type": "markdown",
   "metadata": {},
   "source": [
    "## Animation"
   ]
  },
  {
   "cell_type": "code",
   "execution_count": null,
   "metadata": {},
   "outputs": [],
   "source": [
    "grid = BlockGrid(3, 3)\n",
    "\n",
    "previous_block = None\n",
    "\n",
    "for block in grid.animate():\n",
    "    block.green = 255\n",
    "    \n",
    "    if previous_block:\n",
    "        previous_block.green = 0\n",
    "    \n",
    "    previous_block = block"
   ]
  },
  {
   "cell_type": "code",
   "execution_count": null,
   "metadata": {},
   "outputs": [],
   "source": [
    "def bounds(i, lower, upper):\n",
    "    i = min((i, upper))\n",
    "    i = max((i, lower))\n",
    "    return i"
   ]
  },
  {
   "cell_type": "code",
   "execution_count": null,
   "metadata": {},
   "outputs": [],
   "source": [
    "from random import randint\n",
    "\n",
    "grid = BlockGrid(20, 10)\n",
    "\n",
    "x = 10\n",
    "y = 5\n",
    "color = [128, 128, 128]\n",
    "\n",
    "while True:\n",
    "    x = bounds(x+randint(-1, 1), 0, 19)\n",
    "    y = bounds(y+randint(-1, 1), 0, 9)\n",
    "    idx = randint(0,2)\n",
    "    color[idx] = bounds(color[idx] + randint(-20, 20), 0, 255)   \n",
    "    grid[y,x] = color\n",
    "    grid.flash(display_time=0.05)"
   ]
  },
  {
   "cell_type": "markdown",
   "metadata": {},
   "source": [
    "## Saving grid as image"
   ]
  },
  {
   "cell_type": "code",
   "execution_count": null,
   "metadata": {},
   "outputs": [],
   "source": [
    "import PIL\n",
    "\n",
    "grid.save_image('blocks.png')"
   ]
  },
  {
   "cell_type": "code",
   "execution_count": null,
   "metadata": {},
   "outputs": [],
   "source": []
  }
 ],
 "metadata": {
  "kernelspec": {
   "display_name": "Python 3",
   "language": "python",
   "name": "python3"
  },
  "language_info": {
   "codemirror_mode": {
    "name": "ipython",
    "version": 3
   },
   "file_extension": ".py",
   "mimetype": "text/x-python",
   "name": "python",
   "nbconvert_exporter": "python",
   "pygments_lexer": "ipython3",
   "version": "3.6.5"
  }
 },
 "nbformat": 4,
 "nbformat_minor": 2
}
