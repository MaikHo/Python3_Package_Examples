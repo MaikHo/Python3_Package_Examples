{
 "cells": [
  {
   "cell_type": "markdown",
   "metadata": {},
   "source": [
    "## Creating and indexing block grids"
   ]
  },
  {
   "cell_type": "code",
   "execution_count": 1,
   "metadata": {},
   "outputs": [],
   "source": [
    "from ipythonblocks import BlockGrid"
   ]
  },
  {
   "cell_type": "code",
   "execution_count": 2,
   "metadata": {},
   "outputs": [
    {
     "data": {
      "text/html": [
       "<style type=\"text/css\">table.blockgrid {border: none;} .blockgrid tr {border: none;} .blockgrid td {padding: 0px;} #blocksf7e38774-238f-47ae-96a6-58ce6ccf4a4e td {border: 1px solid white;}</style><table id=\"blocksf7e38774-238f-47ae-96a6-58ce6ccf4a4e\" class=\"blockgrid\"><tbody><tr><td title=\"Index: [0, 0]&#10;Color: (255, 0, 0)\" style=\"width: 20px; height: 20px;background-color: rgb(255, 0, 0);\"></td><td title=\"Index: [0, 1]&#10;Color: (255, 0, 0)\" style=\"width: 20px; height: 20px;background-color: rgb(255, 0, 0);\"></td><td title=\"Index: [0, 2]&#10;Color: (255, 0, 0)\" style=\"width: 20px; height: 20px;background-color: rgb(255, 0, 0);\"></td><td title=\"Index: [0, 3]&#10;Color: (255, 0, 0)\" style=\"width: 20px; height: 20px;background-color: rgb(255, 0, 0);\"></td><td title=\"Index: [0, 4]&#10;Color: (255, 0, 0)\" style=\"width: 20px; height: 20px;background-color: rgb(255, 0, 0);\"></td></tr><tr><td title=\"Index: [1, 0]&#10;Color: (255, 0, 0)\" style=\"width: 20px; height: 20px;background-color: rgb(255, 0, 0);\"></td><td title=\"Index: [1, 1]&#10;Color: (255, 0, 0)\" style=\"width: 20px; height: 20px;background-color: rgb(255, 0, 0);\"></td><td title=\"Index: [1, 2]&#10;Color: (255, 0, 0)\" style=\"width: 20px; height: 20px;background-color: rgb(255, 0, 0);\"></td><td title=\"Index: [1, 3]&#10;Color: (255, 0, 0)\" style=\"width: 20px; height: 20px;background-color: rgb(255, 0, 0);\"></td><td title=\"Index: [1, 4]&#10;Color: (255, 0, 0)\" style=\"width: 20px; height: 20px;background-color: rgb(255, 0, 0);\"></td></tr><tr><td title=\"Index: [2, 0]&#10;Color: (255, 0, 0)\" style=\"width: 20px; height: 20px;background-color: rgb(255, 0, 0);\"></td><td title=\"Index: [2, 1]&#10;Color: (255, 0, 0)\" style=\"width: 20px; height: 20px;background-color: rgb(255, 0, 0);\"></td><td title=\"Index: [2, 2]&#10;Color: (255, 255, 255)\" style=\"width: 20px; height: 20px;background-color: rgb(255, 255, 255);\"></td><td title=\"Index: [2, 3]&#10;Color: (255, 0, 0)\" style=\"width: 20px; height: 20px;background-color: rgb(255, 0, 0);\"></td><td title=\"Index: [2, 4]&#10;Color: (255, 0, 0)\" style=\"width: 20px; height: 20px;background-color: rgb(255, 0, 0);\"></td></tr><tr><td title=\"Index: [3, 0]&#10;Color: (255, 0, 0)\" style=\"width: 20px; height: 20px;background-color: rgb(255, 0, 0);\"></td><td title=\"Index: [3, 1]&#10;Color: (255, 0, 0)\" style=\"width: 20px; height: 20px;background-color: rgb(255, 0, 0);\"></td><td title=\"Index: [3, 2]&#10;Color: (255, 0, 0)\" style=\"width: 20px; height: 20px;background-color: rgb(255, 0, 0);\"></td><td title=\"Index: [3, 3]&#10;Color: (255, 0, 0)\" style=\"width: 20px; height: 20px;background-color: rgb(255, 0, 0);\"></td><td title=\"Index: [3, 4]&#10;Color: (255, 0, 0)\" style=\"width: 20px; height: 20px;background-color: rgb(255, 0, 0);\"></td></tr><tr><td title=\"Index: [4, 0]&#10;Color: (255, 0, 0)\" style=\"width: 20px; height: 20px;background-color: rgb(255, 0, 0);\"></td><td title=\"Index: [4, 1]&#10;Color: (255, 0, 0)\" style=\"width: 20px; height: 20px;background-color: rgb(255, 0, 0);\"></td><td title=\"Index: [4, 2]&#10;Color: (255, 0, 0)\" style=\"width: 20px; height: 20px;background-color: rgb(255, 0, 0);\"></td><td title=\"Index: [4, 3]&#10;Color: (255, 0, 0)\" style=\"width: 20px; height: 20px;background-color: rgb(255, 0, 0);\"></td><td title=\"Index: [4, 4]&#10;Color: (255, 0, 0)\" style=\"width: 20px; height: 20px;background-color: rgb(255, 0, 0);\"></td></tr></tbody></table>"
      ],
      "text/plain": [
       "<ipythonblocks.ipythonblocks.BlockGrid at 0x7f406c1dd160>"
      ]
     },
     "execution_count": 2,
     "metadata": {},
     "output_type": "execute_result"
    }
   ],
   "source": [
    "b = BlockGrid(5, 5, fill=(255, 0, 0))\n",
    "b[2,2].blue = 255\n",
    "b[2,2].green = 255\n",
    "b"
   ]
  },
  {
   "cell_type": "code",
   "execution_count": 3,
   "metadata": {},
   "outputs": [
    {
     "data": {
      "text/html": [
       "<style type=\"text/css\">table.blockgrid {border: none;} .blockgrid tr {border: none;} .blockgrid td {padding: 0px;} #blocksc2f45671-4807-4584-b101-e759bcde21a6 td {border: 1px solid white;}</style><table id=\"blocksc2f45671-4807-4584-b101-e759bcde21a6\" class=\"blockgrid\"><tbody><tr><td title=\"Index: [0, 0]&#10;Color: (255, 120, 0)\" style=\"width: 20px; height: 20px;background-color: rgb(255, 120, 0);\"></td><td title=\"Index: [0, 1]&#10;Color: (128, 0, 128)\" style=\"width: 20px; height: 20px;background-color: rgb(128, 0, 128);\"></td><td title=\"Index: [0, 2]&#10;Color: (255, 120, 0)\" style=\"width: 20px; height: 20px;background-color: rgb(255, 120, 0);\"></td><td title=\"Index: [0, 3]&#10;Color: (128, 0, 128)\" style=\"width: 20px; height: 20px;background-color: rgb(128, 0, 128);\"></td><td title=\"Index: [0, 4]&#10;Color: (255, 120, 0)\" style=\"width: 20px; height: 20px;background-color: rgb(255, 120, 0);\"></td><td title=\"Index: [0, 5]&#10;Color: (128, 0, 128)\" style=\"width: 20px; height: 20px;background-color: rgb(128, 0, 128);\"></td><td title=\"Index: [0, 6]&#10;Color: (255, 120, 0)\" style=\"width: 20px; height: 20px;background-color: rgb(255, 120, 0);\"></td><td title=\"Index: [0, 7]&#10;Color: (128, 0, 128)\" style=\"width: 20px; height: 20px;background-color: rgb(128, 0, 128);\"></td><td title=\"Index: [0, 8]&#10;Color: (255, 120, 0)\" style=\"width: 20px; height: 20px;background-color: rgb(255, 120, 0);\"></td><td title=\"Index: [0, 9]&#10;Color: (128, 0, 128)\" style=\"width: 20px; height: 20px;background-color: rgb(128, 0, 128);\"></td><td title=\"Index: [0, 10]&#10;Color: (255, 120, 0)\" style=\"width: 20px; height: 20px;background-color: rgb(255, 120, 0);\"></td></tr><tr><td title=\"Index: [1, 0]&#10;Color: (255, 120, 0)\" style=\"width: 20px; height: 20px;background-color: rgb(255, 120, 0);\"></td><td title=\"Index: [1, 1]&#10;Color: (128, 0, 128)\" style=\"width: 20px; height: 20px;background-color: rgb(128, 0, 128);\"></td><td title=\"Index: [1, 2]&#10;Color: (255, 120, 0)\" style=\"width: 20px; height: 20px;background-color: rgb(255, 120, 0);\"></td><td title=\"Index: [1, 3]&#10;Color: (128, 0, 128)\" style=\"width: 20px; height: 20px;background-color: rgb(128, 0, 128);\"></td><td title=\"Index: [1, 4]&#10;Color: (255, 120, 0)\" style=\"width: 20px; height: 20px;background-color: rgb(255, 120, 0);\"></td><td title=\"Index: [1, 5]&#10;Color: (128, 0, 128)\" style=\"width: 20px; height: 20px;background-color: rgb(128, 0, 128);\"></td><td title=\"Index: [1, 6]&#10;Color: (255, 120, 0)\" style=\"width: 20px; height: 20px;background-color: rgb(255, 120, 0);\"></td><td title=\"Index: [1, 7]&#10;Color: (128, 0, 128)\" style=\"width: 20px; height: 20px;background-color: rgb(128, 0, 128);\"></td><td title=\"Index: [1, 8]&#10;Color: (255, 120, 0)\" style=\"width: 20px; height: 20px;background-color: rgb(255, 120, 0);\"></td><td title=\"Index: [1, 9]&#10;Color: (128, 0, 128)\" style=\"width: 20px; height: 20px;background-color: rgb(128, 0, 128);\"></td><td title=\"Index: [1, 10]&#10;Color: (255, 120, 0)\" style=\"width: 20px; height: 20px;background-color: rgb(255, 120, 0);\"></td></tr><tr><td title=\"Index: [2, 0]&#10;Color: (255, 120, 0)\" style=\"width: 20px; height: 20px;background-color: rgb(255, 120, 0);\"></td><td title=\"Index: [2, 1]&#10;Color: (128, 0, 128)\" style=\"width: 20px; height: 20px;background-color: rgb(128, 0, 128);\"></td><td title=\"Index: [2, 2]&#10;Color: (255, 120, 0)\" style=\"width: 20px; height: 20px;background-color: rgb(255, 120, 0);\"></td><td title=\"Index: [2, 3]&#10;Color: (120, 120, 120)\" style=\"width: 20px; height: 20px;background-color: rgb(120, 120, 120);\"></td><td title=\"Index: [2, 4]&#10;Color: (120, 120, 120)\" style=\"width: 20px; height: 20px;background-color: rgb(120, 120, 120);\"></td><td title=\"Index: [2, 5]&#10;Color: (120, 120, 120)\" style=\"width: 20px; height: 20px;background-color: rgb(120, 120, 120);\"></td><td title=\"Index: [2, 6]&#10;Color: (120, 120, 120)\" style=\"width: 20px; height: 20px;background-color: rgb(120, 120, 120);\"></td><td title=\"Index: [2, 7]&#10;Color: (120, 120, 120)\" style=\"width: 20px; height: 20px;background-color: rgb(120, 120, 120);\"></td><td title=\"Index: [2, 8]&#10;Color: (255, 120, 0)\" style=\"width: 20px; height: 20px;background-color: rgb(255, 120, 0);\"></td><td title=\"Index: [2, 9]&#10;Color: (128, 0, 128)\" style=\"width: 20px; height: 20px;background-color: rgb(128, 0, 128);\"></td><td title=\"Index: [2, 10]&#10;Color: (255, 120, 0)\" style=\"width: 20px; height: 20px;background-color: rgb(255, 120, 0);\"></td></tr><tr><td title=\"Index: [3, 0]&#10;Color: (255, 120, 0)\" style=\"width: 20px; height: 20px;background-color: rgb(255, 120, 0);\"></td><td title=\"Index: [3, 1]&#10;Color: (128, 0, 128)\" style=\"width: 20px; height: 20px;background-color: rgb(128, 0, 128);\"></td><td title=\"Index: [3, 2]&#10;Color: (255, 120, 0)\" style=\"width: 20px; height: 20px;background-color: rgb(255, 120, 0);\"></td><td title=\"Index: [3, 3]&#10;Color: (120, 120, 120)\" style=\"width: 20px; height: 20px;background-color: rgb(120, 120, 120);\"></td><td title=\"Index: [3, 4]&#10;Color: (120, 120, 120)\" style=\"width: 20px; height: 20px;background-color: rgb(120, 120, 120);\"></td><td title=\"Index: [3, 5]&#10;Color: (120, 120, 120)\" style=\"width: 20px; height: 20px;background-color: rgb(120, 120, 120);\"></td><td title=\"Index: [3, 6]&#10;Color: (120, 120, 120)\" style=\"width: 20px; height: 20px;background-color: rgb(120, 120, 120);\"></td><td title=\"Index: [3, 7]&#10;Color: (120, 120, 120)\" style=\"width: 20px; height: 20px;background-color: rgb(120, 120, 120);\"></td><td title=\"Index: [3, 8]&#10;Color: (255, 120, 0)\" style=\"width: 20px; height: 20px;background-color: rgb(255, 120, 0);\"></td><td title=\"Index: [3, 9]&#10;Color: (128, 0, 128)\" style=\"width: 20px; height: 20px;background-color: rgb(128, 0, 128);\"></td><td title=\"Index: [3, 10]&#10;Color: (255, 120, 0)\" style=\"width: 20px; height: 20px;background-color: rgb(255, 120, 0);\"></td></tr><tr><td title=\"Index: [4, 0]&#10;Color: (255, 120, 0)\" style=\"width: 20px; height: 20px;background-color: rgb(255, 120, 0);\"></td><td title=\"Index: [4, 1]&#10;Color: (128, 0, 128)\" style=\"width: 20px; height: 20px;background-color: rgb(128, 0, 128);\"></td><td title=\"Index: [4, 2]&#10;Color: (255, 120, 0)\" style=\"width: 20px; height: 20px;background-color: rgb(255, 120, 0);\"></td><td title=\"Index: [4, 3]&#10;Color: (120, 120, 120)\" style=\"width: 20px; height: 20px;background-color: rgb(120, 120, 120);\"></td><td title=\"Index: [4, 4]&#10;Color: (120, 120, 120)\" style=\"width: 20px; height: 20px;background-color: rgb(120, 120, 120);\"></td><td title=\"Index: [4, 5]&#10;Color: (120, 120, 120)\" style=\"width: 20px; height: 20px;background-color: rgb(120, 120, 120);\"></td><td title=\"Index: [4, 6]&#10;Color: (120, 120, 120)\" style=\"width: 20px; height: 20px;background-color: rgb(120, 120, 120);\"></td><td title=\"Index: [4, 7]&#10;Color: (120, 120, 120)\" style=\"width: 20px; height: 20px;background-color: rgb(120, 120, 120);\"></td><td title=\"Index: [4, 8]&#10;Color: (255, 120, 0)\" style=\"width: 20px; height: 20px;background-color: rgb(255, 120, 0);\"></td><td title=\"Index: [4, 9]&#10;Color: (128, 0, 128)\" style=\"width: 20px; height: 20px;background-color: rgb(128, 0, 128);\"></td><td title=\"Index: [4, 10]&#10;Color: (255, 120, 0)\" style=\"width: 20px; height: 20px;background-color: rgb(255, 120, 0);\"></td></tr><tr><td title=\"Index: [5, 0]&#10;Color: (255, 120, 0)\" style=\"width: 20px; height: 20px;background-color: rgb(255, 120, 0);\"></td><td title=\"Index: [5, 1]&#10;Color: (128, 0, 128)\" style=\"width: 20px; height: 20px;background-color: rgb(128, 0, 128);\"></td><td title=\"Index: [5, 2]&#10;Color: (255, 120, 0)\" style=\"width: 20px; height: 20px;background-color: rgb(255, 120, 0);\"></td><td title=\"Index: [5, 3]&#10;Color: (128, 0, 128)\" style=\"width: 20px; height: 20px;background-color: rgb(128, 0, 128);\"></td><td title=\"Index: [5, 4]&#10;Color: (255, 120, 0)\" style=\"width: 20px; height: 20px;background-color: rgb(255, 120, 0);\"></td><td title=\"Index: [5, 5]&#10;Color: (128, 0, 128)\" style=\"width: 20px; height: 20px;background-color: rgb(128, 0, 128);\"></td><td title=\"Index: [5, 6]&#10;Color: (255, 120, 0)\" style=\"width: 20px; height: 20px;background-color: rgb(255, 120, 0);\"></td><td title=\"Index: [5, 7]&#10;Color: (128, 0, 128)\" style=\"width: 20px; height: 20px;background-color: rgb(128, 0, 128);\"></td><td title=\"Index: [5, 8]&#10;Color: (255, 120, 0)\" style=\"width: 20px; height: 20px;background-color: rgb(255, 120, 0);\"></td><td title=\"Index: [5, 9]&#10;Color: (128, 0, 128)\" style=\"width: 20px; height: 20px;background-color: rgb(128, 0, 128);\"></td><td title=\"Index: [5, 10]&#10;Color: (255, 120, 0)\" style=\"width: 20px; height: 20px;background-color: rgb(255, 120, 0);\"></td></tr><tr><td title=\"Index: [6, 0]&#10;Color: (255, 120, 0)\" style=\"width: 20px; height: 20px;background-color: rgb(255, 120, 0);\"></td><td title=\"Index: [6, 1]&#10;Color: (128, 0, 128)\" style=\"width: 20px; height: 20px;background-color: rgb(128, 0, 128);\"></td><td title=\"Index: [6, 2]&#10;Color: (255, 120, 0)\" style=\"width: 20px; height: 20px;background-color: rgb(255, 120, 0);\"></td><td title=\"Index: [6, 3]&#10;Color: (128, 0, 128)\" style=\"width: 20px; height: 20px;background-color: rgb(128, 0, 128);\"></td><td title=\"Index: [6, 4]&#10;Color: (255, 120, 0)\" style=\"width: 20px; height: 20px;background-color: rgb(255, 120, 0);\"></td><td title=\"Index: [6, 5]&#10;Color: (128, 0, 128)\" style=\"width: 20px; height: 20px;background-color: rgb(128, 0, 128);\"></td><td title=\"Index: [6, 6]&#10;Color: (255, 120, 0)\" style=\"width: 20px; height: 20px;background-color: rgb(255, 120, 0);\"></td><td title=\"Index: [6, 7]&#10;Color: (128, 0, 128)\" style=\"width: 20px; height: 20px;background-color: rgb(128, 0, 128);\"></td><td title=\"Index: [6, 8]&#10;Color: (255, 120, 0)\" style=\"width: 20px; height: 20px;background-color: rgb(255, 120, 0);\"></td><td title=\"Index: [6, 9]&#10;Color: (128, 0, 128)\" style=\"width: 20px; height: 20px;background-color: rgb(128, 0, 128);\"></td><td title=\"Index: [6, 10]&#10;Color: (255, 120, 0)\" style=\"width: 20px; height: 20px;background-color: rgb(255, 120, 0);\"></td></tr></tbody></table>"
      ],
      "text/plain": [
       "<ipythonblocks.ipythonblocks.BlockGrid at 0x7f406c1ddcc0>"
      ]
     },
     "execution_count": 3,
     "metadata": {},
     "output_type": "execute_result"
    }
   ],
   "source": [
    "b = BlockGrid(11, 7, fill=(255, 120, 0))\n",
    "b[:, 1::2] = (128, 0, 128)\n",
    "b[2:5,3:-3] = (120,120,120)\n",
    "b"
   ]
  },
  {
   "cell_type": "markdown",
   "metadata": {},
   "source": [
    "## Animation"
   ]
  },
  {
   "cell_type": "code",
   "execution_count": null,
   "metadata": {},
   "outputs": [],
   "source": [
    "grid = BlockGrid(3, 3)\n",
    "\n",
    "previous_block = None\n",
    "\n",
    "for block in grid.animate():\n",
    "    block.green = 255\n",
    "    \n",
    "    if previous_block:\n",
    "        previous_block.green = 0\n",
    "    \n",
    "    previous_block = block"
   ]
  },
  {
   "cell_type": "code",
   "execution_count": null,
   "metadata": {},
   "outputs": [],
   "source": [
    "def bounds(i, lower, upper):\n",
    "    i = min((i, upper))\n",
    "    i = max((i, lower))\n",
    "    return i"
   ]
  },
  {
   "cell_type": "code",
   "execution_count": null,
   "metadata": {},
   "outputs": [],
   "source": [
    "from random import randint\n",
    "\n",
    "grid = BlockGrid(20, 10)\n",
    "\n",
    "x = 10\n",
    "y = 5\n",
    "color = [128, 128, 128]\n",
    "\n",
    "while True:\n",
    "    x = bounds(x+randint(-1, 1), 0, 19)\n",
    "    y = bounds(y+randint(-1, 1), 0, 9)\n",
    "    idx = randint(0,2)\n",
    "    color[idx] = bounds(color[idx] + randint(-20, 20), 0, 255)   \n",
    "    grid[y,x] = color\n",
    "    grid.flash(display_time=0.05)"
   ]
  },
  {
   "cell_type": "markdown",
   "metadata": {},
   "source": [
    "## Saving grid as image"
   ]
  },
  {
   "cell_type": "code",
   "execution_count": null,
   "metadata": {},
   "outputs": [],
   "source": [
    "import PIL\n",
    "\n",
    "grid.save_image('blocks.png')"
   ]
  },
  {
   "cell_type": "code",
   "execution_count": null,
   "metadata": {},
   "outputs": [],
   "source": []
  }
 ],
 "metadata": {
  "kernelspec": {
   "display_name": "Python 3",
   "language": "python",
   "name": "python3"
  },
  "language_info": {
   "codemirror_mode": {
    "name": "ipython",
    "version": 3
   },
   "file_extension": ".py",
   "mimetype": "text/x-python",
   "name": "python",
   "nbconvert_exporter": "python",
   "pygments_lexer": "ipython3",
   "version": "3.6.5"
  },
  "varInspector": {
   "cols": {
    "lenName": 16,
    "lenType": 16,
    "lenVar": 40
   },
   "kernels_config": {
    "python": {
     "delete_cmd_postfix": "",
     "delete_cmd_prefix": "del ",
     "library": "var_list.py",
     "varRefreshCmd": "print(var_dic_list())"
    },
    "r": {
     "delete_cmd_postfix": ") ",
     "delete_cmd_prefix": "rm(",
     "library": "var_list.r",
     "varRefreshCmd": "cat(var_dic_list()) "
    }
   },
   "types_to_exclude": [
    "module",
    "function",
    "builtin_function_or_method",
    "instance",
    "_Feature"
   ],
   "window_display": false
  }
 },
 "nbformat": 4,
 "nbformat_minor": 2
}
